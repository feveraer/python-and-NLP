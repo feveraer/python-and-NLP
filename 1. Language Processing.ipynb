{
 "cells": [
  {
   "cell_type": "markdown",
   "metadata": {},
   "source": [
    "# 1. Computing with language: texts and words"
   ]
  },
  {
   "cell_type": "code",
   "execution_count": 3,
   "metadata": {},
   "outputs": [
    {
     "name": "stdout",
     "output_type": "stream",
     "text": [
      "showing info https://raw.githubusercontent.com/nltk/nltk_data/gh-pages/index.xml\n"
     ]
    },
    {
     "data": {
      "text/plain": [
       "True"
      ]
     },
     "execution_count": 3,
     "metadata": {},
     "output_type": "execute_result"
    }
   ],
   "source": [
    "import nltk\n",
    "nltk.download()"
   ]
  },
  {
   "cell_type": "code",
   "execution_count": 17,
   "metadata": {},
   "outputs": [],
   "source": [
    "from nltk.book import *"
   ]
  },
  {
   "cell_type": "code",
   "execution_count": 6,
   "metadata": {},
   "outputs": [
    {
     "data": {
      "text/plain": [
       "<Text: Moby Dick by Herman Melville 1851>"
      ]
     },
     "execution_count": 6,
     "metadata": {},
     "output_type": "execute_result"
    }
   ],
   "source": [
    "text1"
   ]
  },
  {
   "cell_type": "code",
   "execution_count": 45,
   "metadata": {},
   "outputs": [
    {
     "data": {
      "text/plain": [
       "<Text: Monty Python and the Holy Grail>"
      ]
     },
     "execution_count": 45,
     "metadata": {},
     "output_type": "execute_result"
    }
   ],
   "source": [
    "text6"
   ]
  },
  {
   "cell_type": "markdown",
   "metadata": {},
   "source": [
    "## 1.1 Searching text"
   ]
  },
  {
   "cell_type": "code",
   "execution_count": 43,
   "metadata": {},
   "outputs": [
    {
     "name": "stdout",
     "output_type": "stream",
     "text": [
      "Displaying 22 of 22 matches:\n",
      " kick ] ARTHUR : Eh . You are indeed brave , Sir Knight , but the fight is mine\n",
      "re soon to follow : Sir Lancelot the Brave ; Sir Gallahad the Pure ; and Sir Ro\n",
      "d Sir Robin the - not - quite - so - brave - as - Sir - Lancelot , who had near\n",
      "melot . He was not afraid to die , O brave Sir Robin . He was not at all afraid\n",
      " afraid to be killed in nasty ways . Brave , brave , brave , brave Sir Robin ! \n",
      "to be killed in nasty ways . Brave , brave , brave , brave Sir Robin ! He was n\n",
      "lled in nasty ways . Brave , brave , brave , brave Sir Robin ! He was not in th\n",
      "nasty ways . Brave , brave , brave , brave Sir Robin ! He was not in the least \n",
      "d his limbs all hacked and mangled , brave Sir Robin ! His head smashed in and \n",
      " thou ? MINSTREL : [ singing ] He is brave Sir Robin , brave Sir Robin , who --\n",
      " [ singing ] He is brave Sir Robin , brave Sir Robin , who -- ROBIN : Shut up !\n",
      "e ' s scarper MINSTREL : [ singing ] Brave Sir Robin ran away . ROBIN : No ! MI\n",
      " : No ! MINSTREL : [ singing ] Yes , brave Sir Robin turned about ROBIN : I did\n",
      "INSTREL : [ singing ] He beat a very brave retreat . ROBIN : All lies ! MINSTRE\n",
      "INSTREL : [ singing ] Bravest of the brave , Sir Robin . ROBIN : I never CARTOO\n",
      "gn that leads us to the Holy Grail ! Brave , brave Concorde , you shall not hav\n",
      "leads us to the Holy Grail ! Brave , brave Concorde , you shall not have died i\n",
      "t from the Court of Camelot , a very brave and influential knight , and my spec\n",
      "e union between the Princess and the brave , but dangerous , Sir Launcelot of C\n",
      "men lie strewn about its lair . So , brave knights , if you do doubt your coura\n",
      ": Sir Robin ! ROBIN : Yes ? ARTHUR : Brave Sir Robin , you go . ROBIN : Hey ! I\n",
      "nd , my liege . ARTHUR : Good luck , brave Sir Launcelot . God be with you . BR\n"
     ]
    }
   ],
   "source": [
    "text6.concordance(\"brave\")"
   ]
  },
  {
   "cell_type": "code",
   "execution_count": 42,
   "metadata": {},
   "outputs": [
    {
     "name": "stdout",
     "output_type": "stream",
     "text": [
      "camelot and much nice good as hat wise ungallant dull real swamp\n"
     ]
    }
   ],
   "source": [
    "text6.similar(\"brave\")"
   ]
  },
  {
   "cell_type": "code",
   "execution_count": 44,
   "metadata": {},
   "outputs": [
    {
     "name": "stdout",
     "output_type": "stream",
     "text": [
      "very_and\n"
     ]
    }
   ],
   "source": [
    "text6.common_contexts([\"nice\", \"brave\"])"
   ]
  },
  {
   "cell_type": "code",
   "execution_count": 51,
   "metadata": {
    "scrolled": false
   },
   "outputs": [
    {
     "data": {
      "image/png": "[encoded data removed]",
      "text/plain": [
       "<Figure size 432x288 with 1 Axes>"
      ]
     },
     "metadata": {
      "needs_background": "light"
     },
     "output_type": "display_data"
    }
   ],
   "source": [
    "text6.dispersion_plot([\"Camelot\", \"swallow\", \"Arthur\", \"Robin\", \"witch\"])"
   ]
  },
  {
   "cell_type": "markdown",
   "metadata": {},
   "source": [
    "## 1.2 Counting vocabulary"
   ]
  },
  {
   "cell_type": "code",
   "execution_count": 53,
   "metadata": {},
   "outputs": [
    {
     "data": {
      "text/plain": [
       "0.1276595744680851"
      ]
     },
     "execution_count": 53,
     "metadata": {},
     "output_type": "execute_result"
    }
   ],
   "source": [
    "len(set(text6)) / len(text6)"
   ]
  },
  {
   "cell_type": "code",
   "execution_count": 54,
   "metadata": {},
   "outputs": [],
   "source": [
    "def lexical_diversity(text):\n",
    "    return len(set(text)) / len(text)\n",
    "def percentage(count, total):\n",
    "    return 100 * count / total"
   ]
  },
  {
   "cell_type": "code",
   "execution_count": 59,
   "metadata": {},
   "outputs": [
    {
     "data": {
      "text/plain": [
       "0.13477005109975562"
      ]
     },
     "execution_count": 59,
     "metadata": {},
     "output_type": "execute_result"
    }
   ],
   "source": [
    "lexical_diversity(text5)"
   ]
  },
  {
   "cell_type": "code",
   "execution_count": 60,
   "metadata": {},
   "outputs": [
    {
     "data": {
      "text/plain": [
       "80.0"
      ]
     },
     "execution_count": 60,
     "metadata": {},
     "output_type": "execute_result"
    }
   ],
   "source": [
    "percentage(4, 5)"
   ]
  },
  {
   "cell_type": "code",
   "execution_count": 61,
   "metadata": {},
   "outputs": [
    {
     "data": {
      "text/plain": [
       "1.261941790713175"
      ]
     },
     "execution_count": 61,
     "metadata": {},
     "output_type": "execute_result"
    }
   ],
   "source": [
    "percentage(text5.count('a'), len(text5))"
   ]
  },
  {
   "cell_type": "markdown",
   "metadata": {},
   "source": [
    "# 2. Texts as lists of words"
   ]
  },
  {
   "cell_type": "markdown",
   "metadata": {},
   "source": [
    "## 2.1 Lists"
   ]
  },
  {
   "cell_type": "code",
   "execution_count": 62,
   "metadata": {},
   "outputs": [],
   "source": [
    "sent1 = ['Call', 'me', 'Ishmael', '.']"
   ]
  },
  {
   "cell_type": "code",
   "execution_count": 63,
   "metadata": {},
   "outputs": [
    {
     "data": {
      "text/plain": [
       "4"
      ]
     },
     "execution_count": 63,
     "metadata": {},
     "output_type": "execute_result"
    }
   ],
   "source": [
    "len(sent1)"
   ]
  },
  {
   "cell_type": "code",
   "execution_count": 64,
   "metadata": {},
   "outputs": [
    {
     "data": {
      "text/plain": [
       "1.0"
      ]
     },
     "execution_count": 64,
     "metadata": {},
     "output_type": "execute_result"
    }
   ],
   "source": [
    "lexical_diversity(sent1)"
   ]
  },
  {
   "cell_type": "code",
   "execution_count": 67,
   "metadata": {},
   "outputs": [
    {
     "data": {
      "text/plain": [
       "['Fellow',\n",
       " '-',\n",
       " 'Citizens',\n",
       " 'of',\n",
       " 'the',\n",
       " 'Senate',\n",
       " 'and',\n",
       " 'of',\n",
       " 'the',\n",
       " 'House',\n",
       " 'of',\n",
       " 'Representatives',\n",
       " ':']"
      ]
     },
     "execution_count": 67,
     "metadata": {},
     "output_type": "execute_result"
    }
   ],
   "source": [
    "sent4"
   ]
  },
  {
   "cell_type": "code",
   "execution_count": 68,
   "metadata": {},
   "outputs": [
    {
     "data": {
      "text/plain": [
       "['Monty', 'Python', 'and', 'the', 'Holy', 'Grail']"
      ]
     },
     "execution_count": 68,
     "metadata": {},
     "output_type": "execute_result"
    }
   ],
   "source": [
    "['Monty', 'Python'] + ['and', 'the', 'Holy', 'Grail']"
   ]
  },
  {
   "cell_type": "code",
   "execution_count": 69,
   "metadata": {
    "scrolled": true
   },
   "outputs": [
    {
     "data": {
      "text/plain": [
       "['Fellow',\n",
       " '-',\n",
       " 'Citizens',\n",
       " 'of',\n",
       " 'the',\n",
       " 'Senate',\n",
       " 'and',\n",
       " 'of',\n",
       " 'the',\n",
       " 'House',\n",
       " 'of',\n",
       " 'Representatives',\n",
       " ':',\n",
       " 'SCENE',\n",
       " '1',\n",
       " ':',\n",
       " '[',\n",
       " 'wind',\n",
       " ']',\n",
       " '[',\n",
       " 'clop',\n",
       " 'clop',\n",
       " 'clop',\n",
       " ']',\n",
       " 'KING',\n",
       " 'ARTHUR',\n",
       " ':',\n",
       " 'Whoa',\n",
       " 'there',\n",
       " '!']"
      ]
     },
     "execution_count": 69,
     "metadata": {},
     "output_type": "execute_result"
    }
   ],
   "source": [
    "sent4 + sent6"
   ]
  },
  {
   "cell_type": "code",
   "execution_count": 73,
   "metadata": {},
   "outputs": [
    {
     "data": {
      "text/plain": [
       "['Call', 'me', 'Ishmael', '.', 'Some']"
      ]
     },
     "execution_count": 73,
     "metadata": {},
     "output_type": "execute_result"
    }
   ],
   "source": [
    "sent1.append(\"Some\")\n",
    "sent1"
   ]
  },
  {
   "cell_type": "code",
   "execution_count": 74,
   "metadata": {},
   "outputs": [
    {
     "data": {
      "text/plain": [
       "'awaken'"
      ]
     },
     "execution_count": 74,
     "metadata": {},
     "output_type": "execute_result"
    }
   ],
   "source": [
    "text4[173]"
   ]
  },
  {
   "cell_type": "code",
   "execution_count": 75,
   "metadata": {},
   "outputs": [
    {
     "data": {
      "text/plain": [
       "173"
      ]
     },
     "execution_count": 75,
     "metadata": {},
     "output_type": "execute_result"
    }
   ],
   "source": [
    "text4.index(\"awaken\")"
   ]
  },
  {
   "cell_type": "code",
   "execution_count": 76,
   "metadata": {
    "scrolled": true
   },
   "outputs": [
    {
     "data": {
      "text/plain": [
       "['We',\n",
       " \"'\",\n",
       " 're',\n",
       " 'an',\n",
       " 'anarcho',\n",
       " '-',\n",
       " 'syndicalist',\n",
       " 'commune',\n",
       " '.',\n",
       " 'We',\n",
       " 'take',\n",
       " 'it',\n",
       " 'in',\n",
       " 'turns',\n",
       " 'to',\n",
       " 'act',\n",
       " 'as',\n",
       " 'a',\n",
       " 'sort',\n",
       " 'of',\n",
       " 'executive',\n",
       " 'officer',\n",
       " 'for',\n",
       " 'the',\n",
       " 'week']"
      ]
     },
     "execution_count": 76,
     "metadata": {},
     "output_type": "execute_result"
    }
   ],
   "source": [
    "text6[1600:1625]"
   ]
  },
  {
   "cell_type": "markdown",
   "metadata": {},
   "source": [
    "# 3. Computing with language: simple statistics"
   ]
  },
  {
   "cell_type": "code",
   "execution_count": 77,
   "metadata": {},
   "outputs": [],
   "source": [
    "saying = [\"After\", \"all\", \"is\", \"said\", \"and\", \"done\", \n",
    "          \"more\", \"is\", \"said\", \"than\", \"done\"]\n",
    "tokens = set(saying)\n",
    "tokens = sorted(tokens)"
   ]
  },
  {
   "cell_type": "code",
   "execution_count": 78,
   "metadata": {},
   "outputs": [
    {
     "data": {
      "text/plain": [
       "['said', 'than']"
      ]
     },
     "execution_count": 78,
     "metadata": {},
     "output_type": "execute_result"
    }
   ],
   "source": [
    "tokens[-2:]"
   ]
  },
  {
   "cell_type": "markdown",
   "metadata": {},
   "source": [
    "## 3.1 Frequency distributions"
   ]
  },
  {
   "cell_type": "code",
   "execution_count": 79,
   "metadata": {},
   "outputs": [],
   "source": [
    "fdist1 = FreqDist(text1)"
   ]
  },
  {
   "cell_type": "code",
   "execution_count": 80,
   "metadata": {},
   "outputs": [
    {
     "name": "stdout",
     "output_type": "stream",
     "text": [
      "<FreqDist with 19317 samples and 260819 outcomes>\n"
     ]
    }
   ],
   "source": [
    "print(fdist1)"
   ]
  },
  {
   "cell_type": "code",
   "execution_count": 82,
   "metadata": {
    "scrolled": true
   },
   "outputs": [
    {
     "data": {
      "text/plain": [
       "[(',', 18713),\n",
       " ('the', 13721),\n",
       " ('.', 6862),\n",
       " ('of', 6536),\n",
       " ('and', 6024),\n",
       " ('a', 4569),\n",
       " ('to', 4542),\n",
       " (';', 4072),\n",
       " ('in', 3916),\n",
       " ('that', 2982),\n",
       " (\"'\", 2684),\n",
       " ('-', 2552),\n",
       " ('his', 2459),\n",
       " ('it', 2209),\n",
       " ('I', 2124),\n",
       " ('s', 1739),\n",
       " ('is', 1695),\n",
       " ('he', 1661),\n",
       " ('with', 1659),\n",
       " ('was', 1632),\n",
       " ('as', 1620),\n",
       " ('\"', 1478),\n",
       " ('all', 1462),\n",
       " ('for', 1414),\n",
       " ('this', 1280),\n",
       " ('!', 1269),\n",
       " ('at', 1231),\n",
       " ('by', 1137),\n",
       " ('but', 1113),\n",
       " ('not', 1103),\n",
       " ('--', 1070),\n",
       " ('him', 1058),\n",
       " ('from', 1052),\n",
       " ('be', 1030),\n",
       " ('on', 1005),\n",
       " ('so', 918),\n",
       " ('whale', 906),\n",
       " ('one', 889),\n",
       " ('you', 841),\n",
       " ('had', 767),\n",
       " ('have', 760),\n",
       " ('there', 715),\n",
       " ('But', 705),\n",
       " ('or', 697),\n",
       " ('were', 680),\n",
       " ('now', 646),\n",
       " ('which', 640),\n",
       " ('?', 637),\n",
       " ('me', 627),\n",
       " ('like', 624)]"
      ]
     },
     "execution_count": 82,
     "metadata": {},
     "output_type": "execute_result"
    }
   ],
   "source": [
    "fdist1.most_common(50)"
   ]
  },
  {
   "cell_type": "code",
   "execution_count": 86,
   "metadata": {
    "scrolled": true
   },
   "outputs": [
    {
     "data": {
      "text/plain": [
       "37"
      ]
     },
     "execution_count": 86,
     "metadata": {},
     "output_type": "execute_result"
    }
   ],
   "source": [
    "fdist6 = FreqDist(text6)\n",
    "fdist6.most_common(50)\n",
    "fdist6[\"witch\"]"
   ]
  },
  {
   "cell_type": "code",
   "execution_count": 88,
   "metadata": {},
   "outputs": [
    {
     "data": {
      "image/png": "[encoded data removed]",
      "text/plain": [
       "<Figure size 432x288 with 1 Axes>"
      ]
     },
     "metadata": {
      "needs_background": "light"
     },
     "output_type": "display_data"
    }
   ],
   "source": [
    "fdist6.plot(50, cumulative=True)"
   ]
  },
  {
   "cell_type": "code",
   "execution_count": 89,
   "metadata": {
    "scrolled": true
   },
   "outputs": [
    {
     "data": {
      "text/plain": [
       "['KING',\n",
       " 'Whoa',\n",
       " 'goes',\n",
       " 'Uther',\n",
       " 'Pendragon',\n",
       " 'defeator',\n",
       " 'Saxons',\n",
       " 'sovereign',\n",
       " 'trusty',\n",
       " 'length',\n",
       " 'breadth',\n",
       " 'Ridden',\n",
       " 'horse',\n",
       " 'using',\n",
       " 'halves',\n",
       " 'bangin',\n",
       " 'snows',\n",
       " 'Found',\n",
       " 'tropical',\n",
       " 'temperate',\n",
       " 'zone',\n",
       " 'fly',\n",
       " 'south',\n",
       " 'sun',\n",
       " 'house',\n",
       " 'martin',\n",
       " 'plover',\n",
       " 'warmer',\n",
       " 'climes',\n",
       " 'strangers',\n",
       " 'suggesting',\n",
       " 'migrate',\n",
       " 'carrying',\n",
       " 'grip',\n",
       " 'husk',\n",
       " 'grips',\n",
       " 'weight',\n",
       " 'ratios',\n",
       " 'ounce',\n",
       " 'bird',\n",
       " 'matter',\n",
       " 'maintain',\n",
       " 'needs',\n",
       " 'wings',\n",
       " 'forty',\n",
       " 'Am',\n",
       " 'interested',\n",
       " 'maybe',\n",
       " 'wants',\n",
       " 'non',\n",
       " 'migratory',\n",
       " 'couldn',\n",
       " 'bring',\n",
       " 'Supposing',\n",
       " 'strand',\n",
       " 'creeper',\n",
       " 'dorsal',\n",
       " 'guiding',\n",
       " 'feathers',\n",
       " '[...',\n",
       " 'ninepence',\n",
       " 'Ere',\n",
       " 'ill',\n",
       " 'moment',\n",
       " 'regulations',\n",
       " 'cart',\n",
       " 'baby',\n",
       " 'hang',\n",
       " 'around',\n",
       " 'couple',\n",
       " 'Robinson',\n",
       " 'nine',\n",
       " 'walk',\n",
       " 'thanks',\n",
       " 'dunno',\n",
       " 'Must',\n",
       " 'hasn',\n",
       " 'looked',\n",
       " 'object',\n",
       " 'automatically',\n",
       " 'inferior',\n",
       " 'exploiting',\n",
       " 'workers',\n",
       " 'anging',\n",
       " 'outdated',\n",
       " 'imperialist',\n",
       " 'dogma',\n",
       " 'perpetuates',\n",
       " 'social',\n",
       " 'differences',\n",
       " 'society',\n",
       " 'progress',\n",
       " 'filth',\n",
       " 'autonomous',\n",
       " 'collective',\n",
       " 'dictatorship',\n",
       " 'self',\n",
       " 'perpetuating',\n",
       " 'autocracy',\n",
       " 'working',\n",
       " 'classes',\n",
       " 'bringing',\n",
       " 'class',\n",
       " 'haste',\n",
       " 'anarcho',\n",
       " 'syndicalist',\n",
       " 'commune',\n",
       " 'turns',\n",
       " 'act',\n",
       " 'week',\n",
       " 'decision',\n",
       " 'ratified',\n",
       " 'bi',\n",
       " 'weekly',\n",
       " 'meeting',\n",
       " 'purely',\n",
       " 'internal',\n",
       " 'affairs',\n",
       " 'thirds',\n",
       " 'major',\n",
       " 'Order',\n",
       " 'Lady',\n",
       " 'Lake',\n",
       " 'clad',\n",
       " 'purest',\n",
       " 'shimmering',\n",
       " 'samite',\n",
       " 'aloft',\n",
       " 'bosom',\n",
       " 'signifying',\n",
       " 'Divine',\n",
       " 'Providence',\n",
       " 'women',\n",
       " 'lying',\n",
       " 'ponds',\n",
       " 'distributing',\n",
       " 'swords',\n",
       " 'basis',\n",
       " 'government',\n",
       " 'Supreme',\n",
       " 'derives',\n",
       " 'mandate',\n",
       " 'masses',\n",
       " 'farcical',\n",
       " 'aquatic',\n",
       " 'ceremony',\n",
       " 'expect',\n",
       " 'wield',\n",
       " 'supreme',\n",
       " 'watery',\n",
       " 'tart',\n",
       " 'threw',\n",
       " 'emperor',\n",
       " 'moistened',\n",
       " 'bint',\n",
       " 'lobbed',\n",
       " 'scimitar',\n",
       " 'Help',\n",
       " 'repressed',\n",
       " 'peasant',\n",
       " 'repressing',\n",
       " 'stab',\n",
       " 'Aaaaaah',\n",
       " 'Aaaaaaaaah',\n",
       " 'scrape',\n",
       " 'Umm',\n",
       " 'finest',\n",
       " 'bravest',\n",
       " 'proved',\n",
       " 'quarrel',\n",
       " 'move',\n",
       " 'hiyaah',\n",
       " 'adversary',\n",
       " 'Your',\n",
       " 'worse',\n",
       " 'liar',\n",
       " 'pansy',\n",
       " 'Huyah',\n",
       " 'Hiyaah',\n",
       " 'Aaaaaaaah',\n",
       " 'Victory',\n",
       " 'kneeling',\n",
       " 'Thy',\n",
       " 'mer',\n",
       " 'indeed',\n",
       " 'stupid',\n",
       " 'bastard',\n",
       " 'arms',\n",
       " 'flesh',\n",
       " 'wound',\n",
       " 'Chickennn',\n",
       " 'bleed',\n",
       " 'invincible',\n",
       " 'looney',\n",
       " 'triumphs',\n",
       " 'draw',\n",
       " 'Running',\n",
       " 'yellow',\n",
       " 'bastards',\n",
       " 'bite',\n",
       " 'legs',\n",
       " '5',\n",
       " 'false',\n",
       " 'hat',\n",
       " 'Yeaaah',\n",
       " 'Yeaah',\n",
       " 'dress',\n",
       " 'wart',\n",
       " 'makes',\n",
       " 'telling',\n",
       " 'More',\n",
       " 'Wood',\n",
       " '--...',\n",
       " 'Build',\n",
       " 'bridges',\n",
       " 'True',\n",
       " 'Does',\n",
       " 'sink',\n",
       " 'Bread',\n",
       " 'Apples',\n",
       " 'rocks',\n",
       " 'Cider',\n",
       " 'gra',\n",
       " 'gravy',\n",
       " 'Cherries',\n",
       " 'Mud',\n",
       " 'Exactly',\n",
       " 'logically',\n",
       " 'weighs',\n",
       " 'therefore',\n",
       " 'Use',\n",
       " 'largest',\n",
       " 'scales',\n",
       " 'Remove',\n",
       " 'supports',\n",
       " 'cop',\n",
       " 'science',\n",
       " 'honored',\n",
       " 'dub',\n",
       " 'illustrious',\n",
       " 'follow',\n",
       " 'Gallahad',\n",
       " 'Pure',\n",
       " 'Dragon',\n",
       " 'Angnor',\n",
       " 'stood',\n",
       " 'Bristol',\n",
       " 'personally',\n",
       " 'wet',\n",
       " 'himself',\n",
       " 'Battle',\n",
       " 'Badon',\n",
       " 'Hill',\n",
       " 'aptly',\n",
       " 'named',\n",
       " 'appearing',\n",
       " 'film',\n",
       " 'Together',\n",
       " 'formed',\n",
       " 'band',\n",
       " 'deeds',\n",
       " 'retold',\n",
       " 'throughout',\n",
       " 'centuries',\n",
       " '6',\n",
       " 'earth',\n",
       " 'banana',\n",
       " 'learning',\n",
       " 'amazes',\n",
       " 'Explain',\n",
       " 'sheep',\n",
       " 'bladders',\n",
       " 'employed',\n",
       " 'prevent',\n",
       " 'earthquakes',\n",
       " 'certainly',\n",
       " 'PATSY',\n",
       " 'model',\n",
       " 'bid',\n",
       " 'welcome',\n",
       " 'ride',\n",
       " 'table',\n",
       " 'dance',\n",
       " 'routines',\n",
       " 'chorus',\n",
       " 'footwork',\n",
       " 'impeccable',\n",
       " 'dine',\n",
       " 'ham',\n",
       " 'jam',\n",
       " 'spam',\n",
       " 'shows',\n",
       " 'formidable',\n",
       " 'rhymes',\n",
       " 'unsingable',\n",
       " 'opera',\n",
       " 'mad',\n",
       " 'diaphragm',\n",
       " 'dungeon',\n",
       " 'PRISONER',\n",
       " 'tap',\n",
       " 'war',\n",
       " 'tough',\n",
       " 'indefatigable',\n",
       " 'Between',\n",
       " 'quests',\n",
       " 'sequin',\n",
       " 'vests',\n",
       " 'impersonate',\n",
       " 'Clark',\n",
       " 'Gable',\n",
       " 'pram',\n",
       " 'outdoors',\n",
       " '7',\n",
       " 'grovel',\n",
       " 'groveling',\n",
       " 'apologise',\n",
       " 'Every',\n",
       " 'forgive',\n",
       " 'averting',\n",
       " 'miserable',\n",
       " 'Psalms',\n",
       " 'depressing',\n",
       " 'knock',\n",
       " 'example',\n",
       " 'purpose',\n",
       " '8',\n",
       " 'horn',\n",
       " 'eet',\n",
       " 'Guy',\n",
       " 'Loimbard',\n",
       " 'charged',\n",
       " 'shelter',\n",
       " 'night',\n",
       " 'keen',\n",
       " 'outrageous',\n",
       " 'accent',\n",
       " 'Mind',\n",
       " 'business',\n",
       " 'frighten',\n",
       " 'dogs',\n",
       " 'boil',\n",
       " 'nnnnniggets',\n",
       " 'Thpppppt',\n",
       " 'wanna',\n",
       " 'headed',\n",
       " 'animal',\n",
       " 'trough',\n",
       " 'wiper',\n",
       " 'fart',\n",
       " 'general',\n",
       " 'hamster',\n",
       " 'smelt',\n",
       " 'elderberries',\n",
       " 'reasonable',\n",
       " 'OTHER',\n",
       " '!)',\n",
       " 'mooo',\n",
       " 'commands',\n",
       " 'mooooooo',\n",
       " 'Thppppt',\n",
       " 'Fiends',\n",
       " 'tear',\n",
       " 'plan',\n",
       " 'later',\n",
       " 'bang',\n",
       " 'drilllll',\n",
       " 'sawwwww',\n",
       " 'C',\n",
       " 'est',\n",
       " 'bois',\n",
       " 'Un',\n",
       " 'present',\n",
       " 'Oui',\n",
       " 'oui',\n",
       " 'va',\n",
       " 'Bon',\n",
       " 'magne',\n",
       " 'clllank',\n",
       " 'happens',\n",
       " 'wait',\n",
       " 'nightfall',\n",
       " 'totally',\n",
       " 'unarmed',\n",
       " 'leaps',\n",
       " 'U',\n",
       " 'l',\n",
       " 'wooden',\n",
       " 'badger',\n",
       " 'CRASH',\n",
       " '9',\n",
       " 'clack',\n",
       " 'Picture',\n",
       " 'Schools',\n",
       " 'DIRECTOR',\n",
       " 'Action',\n",
       " 'Defeat',\n",
       " 'utterly',\n",
       " 'disheartened',\n",
       " 'ferocity',\n",
       " 'took',\n",
       " 'completely',\n",
       " 'became',\n",
       " 'convinced',\n",
       " 'strategy',\n",
       " 'required',\n",
       " 'successful',\n",
       " 'conclusion',\n",
       " 'having',\n",
       " 'consulted',\n",
       " 'closest',\n",
       " 'decided',\n",
       " 'individually',\n",
       " 'Aaaah',\n",
       " 'slash',\n",
       " 'Frank',\n",
       " '10',\n",
       " 'Ewing',\n",
       " 'accompanied',\n",
       " 'bold',\n",
       " 'forth',\n",
       " 'mashed',\n",
       " 'pulp',\n",
       " 'Or',\n",
       " 'gouged',\n",
       " 'elbows',\n",
       " 'broken',\n",
       " 'kneecaps',\n",
       " 'split',\n",
       " 'body',\n",
       " 'limbs',\n",
       " 'hacked',\n",
       " 'mangled',\n",
       " 'His',\n",
       " 'smashed',\n",
       " 'liver',\n",
       " 'removed',\n",
       " 'bowels',\n",
       " 'unplugged',\n",
       " 'nostrils',\n",
       " 'raped',\n",
       " 'pen',\n",
       " 'lads',\n",
       " 'Looks',\n",
       " 'dirty',\n",
       " 'afoot',\n",
       " 'Anarcho',\n",
       " 'syndicalism',\n",
       " 'preserving',\n",
       " 'forget',\n",
       " 'mud',\n",
       " 'nobody',\n",
       " 'ju',\n",
       " 'oo',\n",
       " 'p',\n",
       " 'quick',\n",
       " 'headoff',\n",
       " 'Yapping',\n",
       " 'lucky',\n",
       " 'snore',\n",
       " 'Anyway',\n",
       " 'breath',\n",
       " 'brush',\n",
       " 'bitching',\n",
       " 'buggered',\n",
       " 'scarper',\n",
       " 'reared',\n",
       " 'ugly',\n",
       " 'tail',\n",
       " 'fled',\n",
       " 'gallantly',\n",
       " 'chickened',\n",
       " 'feet',\n",
       " 'retreat',\n",
       " 'Bravest',\n",
       " 'heeh',\n",
       " 'CHARACTERS',\n",
       " 'Ho',\n",
       " 'Woa',\n",
       " 'wayy',\n",
       " 'Forgive',\n",
       " 'asking',\n",
       " 'Oooo',\n",
       " '11',\n",
       " 'gentle',\n",
       " 'attend',\n",
       " 'tired',\n",
       " 'awhile',\n",
       " 'Midget',\n",
       " 'Crapper',\n",
       " 'Prepare',\n",
       " 'Away',\n",
       " 'varletesses',\n",
       " 'beds',\n",
       " 'warm',\n",
       " 'soft',\n",
       " 'Chaste',\n",
       " 'Mine',\n",
       " 'delirious',\n",
       " 'ungallant',\n",
       " 'refuse',\n",
       " 'hospitality',\n",
       " 'seem',\n",
       " 'dull',\n",
       " 'compared',\n",
       " 'score',\n",
       " 'blondes',\n",
       " 'brunettes',\n",
       " 'sixteen',\n",
       " 'nineteen',\n",
       " 'half',\n",
       " 'protect',\n",
       " 'lonely',\n",
       " 'bathing',\n",
       " 'dressing',\n",
       " 'undressing',\n",
       " 'making',\n",
       " 'underwear',\n",
       " 'immediately',\n",
       " 'Lie',\n",
       " 'trouble',\n",
       " 'basic',\n",
       " 'medical',\n",
       " 'training',\n",
       " 'Piglet',\n",
       " 'Winston',\n",
       " 'Practice',\n",
       " 'WINSTON',\n",
       " 'Try',\n",
       " 'relax',\n",
       " 'absolutely',\n",
       " 'necessary',\n",
       " 'examine',\n",
       " 'sworn',\n",
       " 'chastity',\n",
       " 'Torment',\n",
       " 'identical',\n",
       " 'twin',\n",
       " 'sister',\n",
       " 'Dingo',\n",
       " 'excuse',\n",
       " 'Bad',\n",
       " 'remembered',\n",
       " 'evil',\n",
       " 'worried',\n",
       " 'boys',\n",
       " 'writing',\n",
       " 'glad',\n",
       " 'previous',\n",
       " 'visually',\n",
       " 'committed',\n",
       " 'wasn',\n",
       " 'string',\n",
       " 'pussy',\n",
       " 'jokes',\n",
       " 'enjoying',\n",
       " 'punishment',\n",
       " 'tie',\n",
       " 'spanked',\n",
       " 'deal',\n",
       " 'AMAZING',\n",
       " 'STUNNER',\n",
       " 'LOVELY',\n",
       " 'tonight',\n",
       " 'hello',\n",
       " 'Silence',\n",
       " 'temptress',\n",
       " 'cover',\n",
       " 'Really',\n",
       " 'Honestly',\n",
       " 'cope',\n",
       " 'defeat',\n",
       " 'hundred',\n",
       " 'nick',\n",
       " 'terrible',\n",
       " 'face',\n",
       " 'perilous',\n",
       " 'duty',\n",
       " 'sample',\n",
       " 'unhealthy',\n",
       " 'bet',\n",
       " 'gay',\n",
       " 'almost',\n",
       " 'temptation',\n",
       " 'still',\n",
       " 'nearer',\n",
       " 'Meanwhile',\n",
       " 'discovered',\n",
       " 'laden',\n",
       " 'flights',\n",
       " 'birds',\n",
       " 'walking',\n",
       " 'dragging',\n",
       " 'smashing',\n",
       " 'acting',\n",
       " 'discovers',\n",
       " 'vital',\n",
       " 'clue',\n",
       " 'aren',\n",
       " 'although',\n",
       " 'starling',\n",
       " 'oooh',\n",
       " '12',\n",
       " 'knows',\n",
       " 'entered',\n",
       " 'crossed',\n",
       " 'Seek',\n",
       " '13',\n",
       " 'spooky',\n",
       " 'Peng',\n",
       " 'Those',\n",
       " 'seldom',\n",
       " 'tale',\n",
       " 'sacrifice',\n",
       " 'travellers',\n",
       " 'woods',\n",
       " 'appease',\n",
       " 'PARTY',\n",
       " 'alive',\n",
       " 'expensive',\n",
       " 'hmm',\n",
       " 'Great',\n",
       " 'scott',\n",
       " 'bells',\n",
       " 'weather',\n",
       " '14',\n",
       " 'PRINCE',\n",
       " 'stretched',\n",
       " 'hills',\n",
       " 'valleys',\n",
       " 'Mother',\n",
       " 'b',\n",
       " 'started',\n",
       " 'Other',\n",
       " 'build',\n",
       " 'fourth',\n",
       " 'stayed',\n",
       " 'gonna',\n",
       " 'strongest',\n",
       " 'islands',\n",
       " 'Rather',\n",
       " 'song',\n",
       " 'married',\n",
       " 'owns',\n",
       " 'biggest',\n",
       " 'Britain',\n",
       " 'Alice',\n",
       " 'Erbert',\n",
       " 'beautiful',\n",
       " 'rich',\n",
       " 'o',\n",
       " 'marrying',\n",
       " 'Lucky',\n",
       " 'smack',\n",
       " 'Guards',\n",
       " 'entering',\n",
       " 'uhh',\n",
       " 'w',\n",
       " 'ehh',\n",
       " 'Alright',\n",
       " 'remember',\n",
       " 'havin',\n",
       " 'problems',\n",
       " 'noise',\n",
       " 'suit',\n",
       " 'glass',\n",
       " '15',\n",
       " 'taken',\n",
       " 'Most',\n",
       " 'kind',\n",
       " 'Steady',\n",
       " 'thwonk',\n",
       " 'Message',\n",
       " 'fwump',\n",
       " 'Speak',\n",
       " 'whoever',\n",
       " 'finds',\n",
       " 'imprisoned',\n",
       " 'wishes',\n",
       " 'Swamp',\n",
       " 'cry',\n",
       " 'distress',\n",
       " 'sign',\n",
       " 'mortally',\n",
       " 'c',\n",
       " 'Actually',\n",
       " 'Stay',\n",
       " 'send',\n",
       " 'accomplished',\n",
       " 'daring',\n",
       " 'heroic',\n",
       " 'particular',\n",
       " 'Farewell',\n",
       " '16',\n",
       " 'inside',\n",
       " 'outside',\n",
       " 'ptoo',\n",
       " 'Huy',\n",
       " 'Hiyah',\n",
       " 'Hyy',\n",
       " 'Hya',\n",
       " 'allowed',\n",
       " 'aaugh',\n",
       " 'behold',\n",
       " 'humble',\n",
       " 'terribly',\n",
       " 'hadn',\n",
       " 'somewhere',\n",
       " 'jump',\n",
       " 'conclusions',\n",
       " 'guards',\n",
       " 'pounds',\n",
       " 'everything',\n",
       " 'rope',\n",
       " 'wedding',\n",
       " 'guests',\n",
       " 'Didn',\n",
       " 'dear',\n",
       " 'kicked',\n",
       " 'chest',\n",
       " 'fortune',\n",
       " 'riding',\n",
       " 'country',\n",
       " 'drink',\n",
       " 'understanding',\n",
       " 'thonk',\n",
       " 'sometimes',\n",
       " 'worry',\n",
       " '17',\n",
       " 'crying',\n",
       " 'main',\n",
       " 'knocked',\n",
       " 'hell',\n",
       " 'everyone',\n",
       " 'influential',\n",
       " 'auntie',\n",
       " 'supposed',\n",
       " 'occasion',\n",
       " 'bicker',\n",
       " 'argue',\n",
       " 'witness',\n",
       " 'joyful',\n",
       " 'bond',\n",
       " 'wedlock',\n",
       " 'Unfortunately',\n",
       " 'fallen',\n",
       " 'gained',\n",
       " 'tragic',\n",
       " 'Since',\n",
       " 'near',\n",
       " 'wounding',\n",
       " 'recover',\n",
       " 'felt',\n",
       " 'icy',\n",
       " 'BRIDE',\n",
       " 'Uugh',\n",
       " 'legally',\n",
       " 'binding',\n",
       " 'sense',\n",
       " 'merger',\n",
       " 'dangerous',\n",
       " 'creep',\n",
       " 'uuup',\n",
       " 'Quickly',\n",
       " 'Heee',\n",
       " 'Hoa',\n",
       " 'wonderful',\n",
       " 'Excuse',\n",
       " 'Could',\n",
       " 'somebody',\n",
       " '18',\n",
       " 'crone',\n",
       " 'anywhere',\n",
       " 'town',\n",
       " 'sent',\n",
       " 'Aggh',\n",
       " 'friend',\n",
       " 'worst',\n",
       " 'assist',\n",
       " 'voluntarily',\n",
       " 'properly',\n",
       " 'SHRUBBER',\n",
       " 'Erm',\n",
       " 'ruffians',\n",
       " 'ladies',\n",
       " 'pestilence',\n",
       " 'Even',\n",
       " 'considerable',\n",
       " 'stress',\n",
       " 'period',\n",
       " 'history',\n",
       " 'Shrubberies',\n",
       " 'trade',\n",
       " 'shrubber',\n",
       " 'Roger',\n",
       " 'Shrubber',\n",
       " 'sell',\n",
       " '19',\n",
       " 'laurels',\n",
       " 'particularly',\n",
       " 'Ecky',\n",
       " 'pikang',\n",
       " 'zoop',\n",
       " 'boing',\n",
       " 'goodem',\n",
       " 'zoo',\n",
       " 'owli',\n",
       " 'zhiv',\n",
       " 'Therefore',\n",
       " 'Til',\n",
       " 'Recently',\n",
       " 'Said',\n",
       " 'Firstly',\n",
       " 'beside',\n",
       " 'slightly',\n",
       " 'higher',\n",
       " 'level',\n",
       " 'effect',\n",
       " 'middle',\n",
       " 'mightiest',\n",
       " 'suffice',\n",
       " 'vary',\n",
       " 'Packing',\n",
       " 'packing',\n",
       " 'chickening',\n",
       " 'pissing',\n",
       " 'throwing',\n",
       " 'sponge',\n",
       " 'Surely',\n",
       " 'Far',\n",
       " 'spoken',\n",
       " 'Beyond',\n",
       " 'met',\n",
       " 'frozen',\n",
       " 'Nador',\n",
       " 'forced',\n",
       " 'pitched',\n",
       " 'Eee',\n",
       " 'year',\n",
       " 'passed',\n",
       " 'shivering',\n",
       " 'Mmm',\n",
       " 'gave',\n",
       " 'miss',\n",
       " 'straight',\n",
       " 'Autumn',\n",
       " 'snap',\n",
       " 'Waa',\n",
       " '20',\n",
       " 'Forward',\n",
       " 'manner',\n",
       " 'summon',\n",
       " 'without',\n",
       " 'flint',\n",
       " 'tinder',\n",
       " 'known',\n",
       " 'Enchanter',\n",
       " 'zoosh',\n",
       " 'hidden',\n",
       " 'Ages',\n",
       " 'Umhm',\n",
       " 'helpful',\n",
       " 'waste',\n",
       " 'might',\n",
       " '...?',\n",
       " 'Y',\n",
       " 'Splendid',\n",
       " 'wherein',\n",
       " 'mystic',\n",
       " 'runes',\n",
       " 'Olfin',\n",
       " 'Bedwere',\n",
       " 'Rheged',\n",
       " 'plain',\n",
       " 'resting',\n",
       " 'ye',\n",
       " 'valor',\n",
       " 'guarded',\n",
       " 'creature',\n",
       " 'lived',\n",
       " 'Bones',\n",
       " 'full',\n",
       " 'strewn',\n",
       " 'lair',\n",
       " 'doubt',\n",
       " 'courage',\n",
       " 'further',\n",
       " 'awaits',\n",
       " 'pointy',\n",
       " 'eccentric',\n",
       " 'performance',\n",
       " '21',\n",
       " 'nervous',\n",
       " 'sire',\n",
       " 'foot',\n",
       " 'Dis',\n",
       " 'mount',\n",
       " 'Too',\n",
       " 'late',\n",
       " 'sod',\n",
       " 'worked',\n",
       " 'ordinary',\n",
       " 'tempered',\n",
       " 'rodent',\n",
       " 'tit',\n",
       " 'soiled',\n",
       " 'streak',\n",
       " 'mile',\n",
       " 'wide',\n",
       " 'killer',\n",
       " 'stuffed',\n",
       " 'mate',\n",
       " 'mangy',\n",
       " 'scots',\n",
       " 'git',\n",
       " 'warning',\n",
       " 'nibble',\n",
       " 'bum',\n",
       " 'sharp',\n",
       " 'bones',\n",
       " 'Chop',\n",
       " 'Silly',\n",
       " 'bleeder',\n",
       " 'stew',\n",
       " 'comin',\n",
       " 'harmless',\n",
       " 'bunny',\n",
       " 'lose',\n",
       " 'Gawain',\n",
       " 'Ector',\n",
       " 'risk',\n",
       " 'frontal',\n",
       " 'assault',\n",
       " 'dynamite',\n",
       " 'confuse',\n",
       " 'run',\n",
       " 'change',\n",
       " 'mistake',\n",
       " 'Like',\n",
       " 'bows',\n",
       " 'relics',\n",
       " 'carries',\n",
       " 'donaeis',\n",
       " 'eisrequiem',\n",
       " 'Consult',\n",
       " 'Book',\n",
       " 'Chapter',\n",
       " 'Two',\n",
       " 'verses',\n",
       " 'Nine',\n",
       " 'Twenty',\n",
       " 'Attila',\n",
       " 'raised',\n",
       " \",'\",\n",
       " 'bless',\n",
       " 'mayest',\n",
       " 'thine',\n",
       " 'enemies',\n",
       " 'bits',\n",
       " 'mercy',\n",
       " 'grin',\n",
       " 'feast',\n",
       " 'lambs',\n",
       " 'sloths',\n",
       " 'carp',\n",
       " 'anchovies',\n",
       " 'orangutans',\n",
       " 'breakfast',\n",
       " 'cereals',\n",
       " 'fruit',\n",
       " 'bats',\n",
       " 'chu',\n",
       " 'Skip',\n",
       " 'spake',\n",
       " 'First',\n",
       " 'Pin',\n",
       " 'less',\n",
       " 'counting',\n",
       " 'Four',\n",
       " 'nor',\n",
       " 'either',\n",
       " 'excepting',\n",
       " 'proceed',\n",
       " 'Five',\n",
       " 'Once',\n",
       " 'reached',\n",
       " 'lobbest',\n",
       " 'towards',\n",
       " 'foe',\n",
       " 'sight',\n",
       " 'snuff',\n",
       " '22',\n",
       " 'language',\n",
       " 'scholar',\n",
       " 'Aramaic',\n",
       " 'reads',\n",
       " 'pure',\n",
       " 'spirit',\n",
       " \"'...\",\n",
       " 'carving',\n",
       " ...]"
      ]
     },
     "execution_count": 89,
     "metadata": {},
     "output_type": "execute_result"
    }
   ],
   "source": [
    "fdist6.hapaxes()"
   ]
  },
  {
   "cell_type": "markdown",
   "metadata": {},
   "source": [
    "## 3.2 Fine-grained selection of words"
   ]
  },
  {
   "cell_type": "code",
   "execution_count": 93,
   "metadata": {},
   "outputs": [
    {
     "data": {
      "text/plain": [
       "['BRIDGEKEEPER',\n",
       " 'Camaaaaaargue',\n",
       " 'Dramatically',\n",
       " 'Oooohoohohooo',\n",
       " 'Unfortunately',\n",
       " 'accomplished',\n",
       " 'automatically',\n",
       " 'bridgekeeper',\n",
       " 'considerable',\n",
       " 'dictatorship',\n",
       " 'disheartened',\n",
       " 'distributing',\n",
       " 'elderberries',\n",
       " 'illegitimate',\n",
       " 'indefatigable',\n",
       " 'individually',\n",
       " 'intermission',\n",
       " 'particularly',\n",
       " 'perpetuating',\n",
       " 'understanding']"
      ]
     },
     "execution_count": 93,
     "metadata": {},
     "output_type": "execute_result"
    }
   ],
   "source": [
    "V = set(text6)\n",
    "long_words = [w for w in V if len(w) > 11]\n",
    "sorted(long_words)"
   ]
  },
  {
   "cell_type": "code",
   "execution_count": 94,
   "metadata": {
    "scrolled": true
   },
   "outputs": [
    {
     "data": {
      "text/plain": [
       "['#14-19teens',\n",
       " '#talkcity_adults',\n",
       " '((((((((((',\n",
       " '........',\n",
       " 'Question',\n",
       " 'actually',\n",
       " 'anything',\n",
       " 'computer',\n",
       " 'cute.-ass',\n",
       " 'everyone',\n",
       " 'football',\n",
       " 'innocent',\n",
       " 'listening',\n",
       " 'remember',\n",
       " 'seriously',\n",
       " 'something',\n",
       " 'together',\n",
       " 'tomorrow',\n",
       " 'watching']"
      ]
     },
     "execution_count": 94,
     "metadata": {},
     "output_type": "execute_result"
    }
   ],
   "source": [
    "fdist5 = FreqDist(text5)\n",
    "sorted(w for w in set(text5) if len(w) > 7 and fdist5[w] > 7)"
   ]
  },
  {
   "cell_type": "code",
   "execution_count": 97,
   "metadata": {
    "scrolled": true
   },
   "outputs": [
    {
     "data": {
      "text/plain": [
       "['Aaaaugh',\n",
       " 'BEDEVERE',\n",
       " 'BRIDGEKEEPER',\n",
       " 'Britons',\n",
       " 'CARTOON',\n",
       " 'CHARACTER',\n",
       " 'CONCORDE',\n",
       " 'CUSTOMER',\n",
       " 'Camelot',\n",
       " 'Concorde',\n",
       " 'English',\n",
       " 'GALAHAD',\n",
       " 'Galahad',\n",
       " 'HERBERT',\n",
       " 'KNIGHTS',\n",
       " 'Knights',\n",
       " 'LAUNCELOT',\n",
       " 'Launcelot',\n",
       " 'MAYNARD',\n",
       " 'MINSTREL',\n",
       " 'NARRATOR',\n",
       " 'OFFICER',\n",
       " 'SOLDIER',\n",
       " 'VILLAGER',\n",
       " 'dramatic',\n",
       " 'knights',\n",
       " 'questions',\n",
       " 'requiem',\n",
       " 'shrubbery',\n",
       " 'singing',\n",
       " 'spanking',\n",
       " 'swallow',\n",
       " 'through']"
      ]
     },
     "execution_count": 97,
     "metadata": {},
     "output_type": "execute_result"
    }
   ],
   "source": [
    "sorted(w for w in set(text6) if len(w) > 6 and fdist6[w] > 6)"
   ]
  },
  {
   "cell_type": "markdown",
   "metadata": {},
   "source": [
    "## 3.3 Collocations and bigrams"
   ]
  },
  {
   "cell_type": "code",
   "execution_count": 98,
   "metadata": {},
   "outputs": [
    {
     "data": {
      "text/plain": [
       "[('more', 'is'), ('is', 'said'), ('said', 'than'), ('than', 'done')]"
      ]
     },
     "execution_count": 98,
     "metadata": {},
     "output_type": "execute_result"
    }
   ],
   "source": [
    "list(bigrams(['more', 'is', 'said', 'than', 'done']))"
   ]
  },
  {
   "cell_type": "code",
   "execution_count": 99,
   "metadata": {},
   "outputs": [
    {
     "name": "stdout",
     "output_type": "stream",
     "text": [
      "United States; fellow citizens; four years; years ago; Federal\n",
      "Government; General Government; American people; Vice President; Old\n",
      "World; Almighty God; Fellow citizens; Chief Magistrate; Chief Justice;\n",
      "God bless; every citizen; Indian tribes; public debt; one another;\n",
      "foreign nations; political parties\n"
     ]
    }
   ],
   "source": [
    "text4.collocations()"
   ]
  },
  {
   "cell_type": "code",
   "execution_count": 100,
   "metadata": {},
   "outputs": [
    {
     "name": "stdout",
     "output_type": "stream",
     "text": [
      "BLACK KNIGHT; clop clop; HEAD KNIGHT; mumble mumble; Holy Grail;\n",
      "squeak squeak; FRENCH GUARD; saw saw; Sir Robin; Run away; CARTOON\n",
      "CHARACTER; King Arthur; Iesu domine; Pie Iesu; DEAD PERSON; Round\n",
      "Table; clap clap; OLD MAN; dramatic chord; dona eis\n"
     ]
    }
   ],
   "source": [
    "text6.collocations()"
   ]
  },
  {
   "cell_type": "code",
   "execution_count": null,
   "metadata": {},
   "outputs": [],
   "source": []
  }
 ],
 "metadata": {
  "kernelspec": {
   "display_name": "Python 3",
   "language": "python",
   "name": "python3"
  },
  "language_info": {
   "codemirror_mode": {
    "name": "ipython",
    "version": 3
   },
   "file_extension": ".py",
   "mimetype": "text/x-python",
   "name": "python",
   "nbconvert_exporter": "python",
   "pygments_lexer": "ipython3",
   "version": "3.7.0"
  }
 },
 "nbformat": 4,
 "nbformat_minor": 2
}
